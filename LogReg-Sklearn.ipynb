{
 "cells": [
  {
   "cell_type": "markdown",
   "metadata": {},
   "source": [
    "# Logistic Regression using Scikit-Learn"
   ]
  },
  {
   "cell_type": "markdown",
   "metadata": {},
   "source": [
    "### Data preparation"
   ]
  },
  {
   "cell_type": "code",
   "execution_count": 2,
   "metadata": {},
   "outputs": [],
   "source": [
    "# Importing libraries\n",
    "\n",
    "from __future__ import print_function\n",
    "import imageio\n",
    "import matplotlib.pyplot as plt\n",
    "import numpy as np\n",
    "\n",
    "import sys\n",
    "import tarfile\n",
    "from IPython.display import display, Image\n",
    "from sklearn.linear_model import LogisticRegression\n",
    "from six.moves.urllib.request import urlretrieve\n",
    "from six.moves import cPickle as pickle\n",
    "\n",
    "# Config the matplotlib backend as plotting inline in IPython\n",
    "%matplotlib inline\n",
    "\n",
    "print(\"All libs imported.\")"
   ]
  },
  {
   "cell_type": "code",
   "execution_count": 3,
   "metadata": {
    "scrolled": true
   },
   "outputs": [
    {
     "name": "stdout",
     "output_type": "stream",
     "text": [
      "Found and verified ./src/notMNIST_large.tar.gz\n",
      "Found and verified ./src/notMNIST_small.tar.gz\n"
     ]
    }
   ],
   "source": [
    "# Downloading the compressed notMNIST dataset\n",
    "\n",
    "import os\n",
    "url = 'https://commondatastorage.googleapis.com/books1000/'\n",
    "last_percent_reported = None\n",
    "data_root = './data' # Change me to store data elsewhere\n",
    "\n",
    "def download_progress_hook(count, blockSize, totalSize):\n",
    "  \"\"\"A hook to report the progress of a download. This is mostly intended for users with\n",
    "  slow internet connections. Reports every 5% change in download progress.\n",
    "  \"\"\"\n",
    "  global last_percent_reported\n",
    "  percent = int(count * blockSize * 100 / totalSize)\n",
    "\n",
    "  if last_percent_reported != percent:\n",
    "    if percent % 5 == 0:\n",
    "      sys.stdout.write(\"%s%%\" % percent)\n",
    "      sys.stdout.flush()\n",
    "    else:\n",
    "      sys.stdout.write(\".\")\n",
    "      sys.stdout.flush()\n",
    "      \n",
    "    last_percent_reported = percent\n",
    "        \n",
    "def maybe_download(filename, expected_bytes, force=False):\n",
    "  \"\"\"Download a file if not present, and make sure it's the right size.\"\"\"\n",
    "  dest_filename = os.path.join(data_root, filename)\n",
    "  if force or not os.path.exists(dest_filename):\n",
    "    print('Attempting to download:', filename) \n",
    "    filename, _ = urlretrieve(url + filename, dest_filename, reporthook=download_progress_hook)\n",
    "    print('\\nDownload Complete!')\n",
    "  statinfo = os.stat(dest_filename)\n",
    "  if statinfo.st_size == expected_bytes:\n",
    "    print('Found and verified', dest_filename)\n",
    "  else:\n",
    "    raise Exception(\n",
    "      'Failed to verify ' + dest_filename + '. Can you get to it with a browser?')\n",
    "  return dest_filename\n",
    "\n",
    "train_filename = maybe_download('notMNIST_large.tar.gz', 247336696)\n",
    "test_filename = maybe_download('notMNIST_small.tar.gz', 8458043)"
   ]
  },
  {
   "cell_type": "code",
   "execution_count": 4,
   "metadata": {},
   "outputs": [
    {
     "name": "stdout",
     "output_type": "stream",
     "text": [
      "./src/notMNIST_large already present - Skipping extraction of ./src/notMNIST_large.tar.gz.\n",
      "['./src/notMNIST_large/A', './src/notMNIST_large/B', './src/notMNIST_large/C', './src/notMNIST_large/D', './src/notMNIST_large/E', './src/notMNIST_large/F', './src/notMNIST_large/G', './src/notMNIST_large/H', './src/notMNIST_large/I', './src/notMNIST_large/J']\n",
      "./src/notMNIST_small already present - Skipping extraction of ./src/notMNIST_small.tar.gz.\n",
      "['./src/notMNIST_small/A', './src/notMNIST_small/B', './src/notMNIST_small/C', './src/notMNIST_small/D', './src/notMNIST_small/E', './src/notMNIST_small/F', './src/notMNIST_small/G', './src/notMNIST_small/H', './src/notMNIST_small/I', './src/notMNIST_small/J']\n"
     ]
    }
   ],
   "source": [
    "# Extracting the dataset from the .tar files\n",
    "\n",
    "num_classes = 10\n",
    "np.random.seed(133)\n",
    "\n",
    "def maybe_extract(filename, force=False):\n",
    "  root = os.path.splitext(os.path.splitext(filename)[0])[0]  # remove .tar.gz\n",
    "  if os.path.isdir(root) and not force:\n",
    "    # You may override by setting force=True.\n",
    "    print('%s already present - Skipping extraction of %s.' % (root, filename))\n",
    "  else:\n",
    "    print('Extracting data for %s. This may take a while. Please wait.' % root)\n",
    "    tar = tarfile.open(filename)\n",
    "    sys.stdout.flush()\n",
    "    tar.extractall(data_root)\n",
    "    tar.close()\n",
    "  data_folders = [\n",
    "    os.path.join(root, d) for d in sorted(os.listdir(root))\n",
    "    if os.path.isdir(os.path.join(root, d))]\n",
    "  if len(data_folders) != num_classes:\n",
    "    raise Exception(\n",
    "      'Expected %d folders, one per class. Found %d instead.' % (\n",
    "        num_classes, len(data_folders)))\n",
    "  print(data_folders)\n",
    "  return data_folders\n",
    "  \n",
    "train_folders = maybe_extract(train_filename)\n",
    "test_folders = maybe_extract(test_filename)"
   ]
  },
  {
   "cell_type": "code",
   "execution_count": 5,
   "metadata": {},
   "outputs": [
    {
     "data": {
      "image/png": "[encoded data removed]",
      "text/plain": [
       "<IPython.core.display.Image object>"
      ]
     },
     "execution_count": 5,
     "metadata": {},
     "output_type": "execute_result"
    }
   ],
   "source": [
    "# Checking if image can be properly displayed from the data \n",
    "\n",
    "Image(filename = \"./data/notMNIST_large/A/a2VhZ2FuLnR0Zg==.png\")"
   ]
  },
  {
   "cell_type": "code",
   "execution_count": 6,
   "metadata": {},
   "outputs": [
    {
     "name": "stdout",
     "output_type": "stream",
     "text": [
      "./src/notMNIST_large/A.pickle already present - Skipping pickling.\n",
      "./src/notMNIST_large/B.pickle already present - Skipping pickling.\n",
      "./src/notMNIST_large/C.pickle already present - Skipping pickling.\n",
      "./src/notMNIST_large/D.pickle already present - Skipping pickling.\n",
      "./src/notMNIST_large/E.pickle already present - Skipping pickling.\n",
      "./src/notMNIST_large/F.pickle already present - Skipping pickling.\n",
      "./src/notMNIST_large/G.pickle already present - Skipping pickling.\n",
      "./src/notMNIST_large/H.pickle already present - Skipping pickling.\n",
      "./src/notMNIST_large/I.pickle already present - Skipping pickling.\n",
      "./src/notMNIST_large/J.pickle already present - Skipping pickling.\n",
      "./src/notMNIST_small/A.pickle already present - Skipping pickling.\n",
      "./src/notMNIST_small/B.pickle already present - Skipping pickling.\n",
      "./src/notMNIST_small/C.pickle already present - Skipping pickling.\n",
      "./src/notMNIST_small/D.pickle already present - Skipping pickling.\n",
      "./src/notMNIST_small/E.pickle already present - Skipping pickling.\n",
      "./src/notMNIST_small/F.pickle already present - Skipping pickling.\n",
      "./src/notMNIST_small/G.pickle already present - Skipping pickling.\n",
      "./src/notMNIST_small/H.pickle already present - Skipping pickling.\n",
      "./src/notMNIST_small/I.pickle already present - Skipping pickling.\n",
      "./src/notMNIST_small/J.pickle already present - Skipping pickling.\n"
     ]
    }
   ],
   "source": [
    "# Pickling the dataset into files for each letter in each 'case'\n",
    "\n",
    "image_size = 28  # Pixel width and height.\n",
    "pixel_depth = 255.0  # Number of levels per pixel.\n",
    "\n",
    "def load_letter(folder, min_num_images):\n",
    "  \"\"\"Load the data for a single letter label.\"\"\"\n",
    "  image_files = os.listdir(folder)\n",
    "  dataset = np.ndarray(shape=(len(image_files), image_size, image_size),\n",
    "                         dtype=np.float32)\n",
    "  print(folder)\n",
    "  num_images = 0\n",
    "  for image in image_files:\n",
    "    image_file = os.path.join(folder, image)\n",
    "    try:\n",
    "      image_data = (imageio.imread(image_file).astype(float) - \n",
    "                    pixel_depth / 2) / pixel_depth\n",
    "      if image_data.shape != (image_size, image_size):\n",
    "        raise Exception('Unexpected image shape: %s' % str(image_data.shape))\n",
    "      dataset[num_images, :, :] = image_data\n",
    "      num_images = num_images + 1\n",
    "    except (IOError, ValueError) as e:\n",
    "      print('Could not read:', image_file, ':', e, '- it\\'s ok, skipping.')\n",
    "    \n",
    "  dataset = dataset[0:num_images, :, :]\n",
    "  if num_images < min_num_images:\n",
    "    raise Exception('Many fewer images than expected: %d < %d' %\n",
    "                    (num_images, min_num_images))\n",
    "    \n",
    "  print('Full dataset tensor:', dataset.shape)\n",
    "  print('Mean:', np.mean(dataset))\n",
    "  print('Standard deviation:', np.std(dataset))\n",
    "  return dataset\n",
    "        \n",
    "def maybe_pickle(data_folders, min_num_images_per_class, force=False):\n",
    "  dataset_names = []\n",
    "  for folder in data_folders:\n",
    "    set_filename = folder + '.pickle'\n",
    "    dataset_names.append(set_filename)\n",
    "    if os.path.exists(set_filename) and not force:\n",
    "      # You may override by setting force=True.\n",
    "      print('%s already present - Skipping pickling.' % set_filename)\n",
    "    else:\n",
    "      print('Pickling %s.' % set_filename)\n",
    "      dataset = load_letter(folder, min_num_images_per_class)\n",
    "      try:\n",
    "        with open(set_filename, 'wb') as f:\n",
    "          pickle.dump(dataset, f, pickle.HIGHEST_PROTOCOL)\n",
    "      except Exception as e:\n",
    "        print('Unable to save data to', set_filename, ':', e)\n",
    "  \n",
    "  return dataset_names\n",
    "\n",
    "train_datasets = maybe_pickle(train_folders, 45000)\n",
    "test_datasets = maybe_pickle(test_folders, 1800)"
   ]
  },
  {
   "cell_type": "code",
   "execution_count": 7,
   "metadata": {},
   "outputs": [
    {
     "data": {
      "image/png": "[encoded data removed]",
      "text/plain": [
       "<Figure size 432x288 with 1 Axes>"
      ]
     },
     "metadata": {
      "needs_background": "light"
     },
     "output_type": "display_data"
    },
    {
     "data": {
      "image/png": "[encoded data removed]",
      "text/plain": [
       "<Figure size 432x288 with 1 Axes>"
      ]
     },
     "metadata": {
      "needs_background": "light"
     },
     "output_type": "display_data"
    },
    {
     "data": {
      "image/png": "[encoded data removed]",
      "text/plain": [
       "<Figure size 432x288 with 1 Axes>"
      ]
     },
     "metadata": {
      "needs_background": "light"
     },
     "output_type": "display_data"
    },
    {
     "data": {
      "image/png": "[encoded data removed]",
      "text/plain": [
       "<Figure size 432x288 with 1 Axes>"
      ]
     },
     "metadata": {
      "needs_background": "light"
     },
     "output_type": "display_data"
    },
    {
     "data": {
      "image/png": "[encoded data removed]",
      "text/plain": [
       "<Figure size 432x288 with 1 Axes>"
      ]
     },
     "metadata": {
      "needs_background": "light"
     },
     "output_type": "display_data"
    },
    {
     "data": {
      "image/png": "[encoded data removed]",
      "text/plain": [
       "<Figure size 432x288 with 1 Axes>"
      ]
     },
     "metadata": {
      "needs_background": "light"
     },
     "output_type": "display_data"
    },
    {
     "data": {
      "image/png": "[encoded data removed]",
      "text/plain": [
       "<Figure size 432x288 with 1 Axes>"
      ]
     },
     "metadata": {
      "needs_background": "light"
     },
     "output_type": "display_data"
    },
    {
     "data": {
      "image/png": "[encoded data removed]",
      "text/plain": [
       "<Figure size 432x288 with 1 Axes>"
      ]
     },
     "metadata": {
      "needs_background": "light"
     },
     "output_type": "display_data"
    },
    {
     "data": {
      "image/png": "[encoded data removed]",
      "text/plain": [
       "<Figure size 432x288 with 1 Axes>"
      ]
     },
     "metadata": {
      "needs_background": "light"
     },
     "output_type": "display_data"
    },
    {
     "data": {
      "image/png": "[encoded data removed]",
      "text/plain": [
       "<Figure size 432x288 with 1 Axes>"
      ]
     },
     "metadata": {
      "needs_background": "light"
     },
     "output_type": "display_data"
    }
   ],
   "source": [
    "# Checking if the data can still be displayed\n",
    "\n",
    "fig = pickle.load(open('./data/notMNIST_large/A.pickle',  'rb')  )\n",
    "\n",
    "# from PIL import Image as Img\n",
    "# img = Img.fromarray(np.uint8(figx[1] * 255) , 'L')\n",
    "# #img = Img.fromarray(figx[1], 'L')\n",
    "# img.show()\n",
    "\n",
    "# Display matrix\n",
    "for i in range(10):\n",
    "    #plt.matshow(fig[i])\n",
    "    plt.imshow(fig[i])\n",
    "    plt.show()"
   ]
  },
  {
   "cell_type": "code",
   "execution_count": 8,
   "metadata": {},
   "outputs": [
    {
     "name": "stdout",
     "output_type": "stream",
     "text": [
      "Training: (200000, 28, 28) (200000,)\n",
      "Validation: (10000, 28, 28) (10000,)\n",
      "Testing: (10000, 28, 28) (10000,)\n"
     ]
    }
   ],
   "source": [
    "# Merging all character data to create seperate dataset for training, validation, testing\n",
    "\n",
    "def make_arrays(nb_rows, img_size):\n",
    "  if nb_rows:\n",
    "    dataset = np.ndarray((nb_rows, img_size, img_size), dtype=np.float32)\n",
    "    labels = np.ndarray(nb_rows, dtype=np.int32)\n",
    "  else:\n",
    "    dataset, labels = None, None\n",
    "  return dataset, labels\n",
    "\n",
    "def merge_datasets(pickle_files, train_size, valid_size=0):\n",
    "  num_classes = len(pickle_files)\n",
    "  valid_dataset, valid_labels = make_arrays(valid_size, image_size)\n",
    "  train_dataset, train_labels = make_arrays(train_size, image_size)\n",
    "  vsize_per_class = valid_size // num_classes\n",
    "  tsize_per_class = train_size // num_classes\n",
    "    \n",
    "  start_v, start_t = 0, 0\n",
    "  end_v, end_t = vsize_per_class, tsize_per_class\n",
    "  end_l = vsize_per_class+tsize_per_class\n",
    "  for label, pickle_file in enumerate(pickle_files):       \n",
    "    try:\n",
    "      with open(pickle_file, 'rb') as f:\n",
    "        letter_set = pickle.load(f)\n",
    "        # let's shuffle the letters to have random validation and training set\n",
    "        np.random.shuffle(letter_set)\n",
    "        if valid_dataset is not None:\n",
    "          valid_letter = letter_set[:vsize_per_class, :, :]\n",
    "          valid_dataset[start_v:end_v, :, :] = valid_letter\n",
    "          valid_labels[start_v:end_v] = label\n",
    "          start_v += vsize_per_class\n",
    "          end_v += vsize_per_class\n",
    "                    \n",
    "        train_letter = letter_set[vsize_per_class:end_l, :, :]\n",
    "        train_dataset[start_t:end_t, :, :] = train_letter\n",
    "        train_labels[start_t:end_t] = label\n",
    "        start_t += tsize_per_class\n",
    "        end_t += tsize_per_class\n",
    "    except Exception as e:\n",
    "      print('Unable to process data from', pickle_file, ':', e)\n",
    "      raise\n",
    "    \n",
    "  return valid_dataset, valid_labels, train_dataset, train_labels\n",
    "            \n",
    "            \n",
    "train_size = 200000\n",
    "valid_size = 10000\n",
    "test_size = 10000\n",
    "\n",
    "valid_dataset, valid_labels, train_dataset, train_labels = merge_datasets(\n",
    "  train_datasets, train_size, valid_size)\n",
    "_, _, test_dataset, test_labels = merge_datasets(test_datasets, test_size)\n",
    "\n",
    "print('Training:', train_dataset.shape, train_labels.shape)\n",
    "print('Validation:', valid_dataset.shape, valid_labels.shape)\n",
    "print('Testing:', test_dataset.shape, test_labels.shape)"
   ]
  },
  {
   "cell_type": "code",
   "execution_count": 9,
   "metadata": {},
   "outputs": [],
   "source": [
    "# Shuffling datasets for better performance\n",
    "\n",
    "def  randomize(dataset, labels):\n",
    "  permutation = np.random.permutation(labels.shape[0])\n",
    "  shuffled_dataset = dataset[permutation,:,:]\n",
    "  shuffled_labels = labels[permutation]\n",
    "  return shuffled_dataset, shuffled_labels\n",
    "\n",
    "train_dataset, train_labels = randomize(train_dataset, train_labels)\n",
    "test_dataset, test_labels = randomize(test_dataset, test_labels)\n",
    "valid_dataset, valid_labels = randomize(valid_dataset, valid_labels)"
   ]
  },
  {
   "cell_type": "code",
   "execution_count": 10,
   "metadata": {},
   "outputs": [
    {
     "name": "stdout",
     "output_type": "stream",
     "text": [
      "Few training images:\n",
      "\n",
      "\tLabel:  4\n"
     ]
    },
    {
     "data": {
      "image/png": "[encoded data removed]",
      "text/plain": [
       "<Figure size 432x288 with 1 Axes>"
      ]
     },
     "metadata": {
      "needs_background": "light"
     },
     "output_type": "display_data"
    },
    {
     "name": "stdout",
     "output_type": "stream",
     "text": [
      "\tLabel:  2\n"
     ]
    },
    {
     "data": {
      "image/png": "[encoded data removed]",
      "text/plain": [
       "<Figure size 432x288 with 1 Axes>"
      ]
     },
     "metadata": {
      "needs_background": "light"
     },
     "output_type": "display_data"
    },
    {
     "name": "stdout",
     "output_type": "stream",
     "text": [
      "\tLabel:  7\n"
     ]
    },
    {
     "data": {
      "image/png": "[encoded data removed]",
      "text/plain": [
       "<Figure size 432x288 with 1 Axes>"
      ]
     },
     "metadata": {
      "needs_background": "light"
     },
     "output_type": "display_data"
    },
    {
     "name": "stdout",
     "output_type": "stream",
     "text": [
      "\tLabel:  9\n"
     ]
    },
    {
     "data": {
      "image/png": "[encoded data removed]",
      "text/plain": [
       "<Figure size 432x288 with 1 Axes>"
      ]
     },
     "metadata": {
      "needs_background": "light"
     },
     "output_type": "display_data"
    },
    {
     "name": "stdout",
     "output_type": "stream",
     "text": [
      "\tLabel:  4\n"
     ]
    },
    {
     "data": {
      "image/png": "[encoded data removed]",
      "text/plain": [
       "<Figure size 432x288 with 1 Axes>"
      ]
     },
     "metadata": {
      "needs_background": "light"
     },
     "output_type": "display_data"
    },
    {
     "name": "stdout",
     "output_type": "stream",
     "text": [
      "\tLabel:  9\n"
     ]
    },
    {
     "data": {
      "image/png": "[encoded data removed]",
      "text/plain": [
       "<Figure size 432x288 with 1 Axes>"
      ]
     },
     "metadata": {
      "needs_background": "light"
     },
     "output_type": "display_data"
    },
    {
     "name": "stdout",
     "output_type": "stream",
     "text": [
      "\tLabel:  2\n"
     ]
    },
    {
     "data": {
      "image/png": "[encoded data removed]",
      "text/plain": [
       "<Figure size 432x288 with 1 Axes>"
      ]
     },
     "metadata": {
      "needs_background": "light"
     },
     "output_type": "display_data"
    },
    {
     "name": "stdout",
     "output_type": "stream",
     "text": [
      "\tLabel:  6\n"
     ]
    },
    {
     "data": {
      "image/png": "[encoded data removed]",
      "text/plain": [
       "<Figure size 432x288 with 1 Axes>"
      ]
     },
     "metadata": {
      "needs_background": "light"
     },
     "output_type": "display_data"
    },
    {
     "name": "stdout",
     "output_type": "stream",
     "text": [
      "\tLabel:  9\n"
     ]
    },
    {
     "data": {
      "image/png": "[encoded data removed]",
      "text/plain": [
       "<Figure size 432x288 with 1 Axes>"
      ]
     },
     "metadata": {
      "needs_background": "light"
     },
     "output_type": "display_data"
    },
    {
     "name": "stdout",
     "output_type": "stream",
     "text": [
      "\tLabel:  2\n"
     ]
    },
    {
     "data": {
      "image/png": "[encoded data removed]",
      "text/plain": [
       "<Figure size 432x288 with 1 Axes>"
      ]
     },
     "metadata": {
      "needs_background": "light"
     },
     "output_type": "display_data"
    },
    {
     "name": "stdout",
     "output_type": "stream",
     "text": [
      "Few Testing images:\n",
      "\n",
      "\tLabel:  3\n"
     ]
    },
    {
     "data": {
      "image/png": "[encoded data removed]",
      "text/plain": [
       "<Figure size 432x288 with 1 Axes>"
      ]
     },
     "metadata": {
      "needs_background": "light"
     },
     "output_type": "display_data"
    },
    {
     "name": "stdout",
     "output_type": "stream",
     "text": [
      "\tLabel:  3\n"
     ]
    },
    {
     "data": {
      "image/png": "[encoded data removed]",
      "text/plain": [
       "<Figure size 432x288 with 1 Axes>"
      ]
     },
     "metadata": {
      "needs_background": "light"
     },
     "output_type": "display_data"
    },
    {
     "name": "stdout",
     "output_type": "stream",
     "text": [
      "\tLabel:  9\n"
     ]
    },
    {
     "data": {
      "image/png": "[encoded data removed]",
      "text/plain": [
       "<Figure size 432x288 with 1 Axes>"
      ]
     },
     "metadata": {
      "needs_background": "light"
     },
     "output_type": "display_data"
    },
    {
     "name": "stdout",
     "output_type": "stream",
     "text": [
      "\tLabel:  7\n"
     ]
    },
    {
     "data": {
      "image/png": "[encoded data removed]",
      "text/plain": [
       "<Figure size 432x288 with 1 Axes>"
      ]
     },
     "metadata": {
      "needs_background": "light"
     },
     "output_type": "display_data"
    },
    {
     "name": "stdout",
     "output_type": "stream",
     "text": [
      "\tLabel:  4\n"
     ]
    },
    {
     "data": {
      "image/png": "[encoded data removed]",
      "text/plain": [
       "<Figure size 432x288 with 1 Axes>"
      ]
     },
     "metadata": {
      "needs_background": "light"
     },
     "output_type": "display_data"
    },
    {
     "name": "stdout",
     "output_type": "stream",
     "text": [
      "\tLabel:  3\n"
     ]
    },
    {
     "data": {
      "image/png": "[encoded data removed]",
      "text/plain": [
       "<Figure size 432x288 with 1 Axes>"
      ]
     },
     "metadata": {
      "needs_background": "light"
     },
     "output_type": "display_data"
    },
    {
     "name": "stdout",
     "output_type": "stream",
     "text": [
      "\tLabel:  6\n"
     ]
    },
    {
     "data": {
      "image/png": "[encoded data removed]",
      "text/plain": [
       "<Figure size 432x288 with 1 Axes>"
      ]
     },
     "metadata": {
      "needs_background": "light"
     },
     "output_type": "display_data"
    },
    {
     "name": "stdout",
     "output_type": "stream",
     "text": [
      "\tLabel:  0\n"
     ]
    },
    {
     "data": {
      "image/png": "[encoded data removed]",
      "text/plain": [
       "<Figure size 432x288 with 1 Axes>"
      ]
     },
     "metadata": {
      "needs_background": "light"
     },
     "output_type": "display_data"
    },
    {
     "name": "stdout",
     "output_type": "stream",
     "text": [
      "\tLabel:  7\n"
     ]
    },
    {
     "data": {
      "image/png": "[encoded data removed]",
      "text/plain": [
       "<Figure size 432x288 with 1 Axes>"
      ]
     },
     "metadata": {
      "needs_background": "light"
     },
     "output_type": "display_data"
    },
    {
     "name": "stdout",
     "output_type": "stream",
     "text": [
      "\tLabel:  8\n"
     ]
    },
    {
     "data": {
      "image/png": "[encoded data removed]",
      "text/plain": [
       "<Figure size 432x288 with 1 Axes>"
      ]
     },
     "metadata": {
      "needs_background": "light"
     },
     "output_type": "display_data"
    },
    {
     "name": "stdout",
     "output_type": "stream",
     "text": [
      "Few Validation images:\n",
      "\n",
      "\tLabel:  1\n"
     ]
    },
    {
     "data": {
      "image/png": "[encoded data removed]",
      "text/plain": [
       "<Figure size 432x288 with 1 Axes>"
      ]
     },
     "metadata": {
      "needs_background": "light"
     },
     "output_type": "display_data"
    },
    {
     "name": "stdout",
     "output_type": "stream",
     "text": [
      "\tLabel:  9\n"
     ]
    },
    {
     "data": {
      "image/png": "[encoded data removed]",
      "text/plain": [
       "<Figure size 432x288 with 1 Axes>"
      ]
     },
     "metadata": {
      "needs_background": "light"
     },
     "output_type": "display_data"
    },
    {
     "name": "stdout",
     "output_type": "stream",
     "text": [
      "\tLabel:  8\n"
     ]
    },
    {
     "data": {
      "image/png": "[encoded data removed]",
      "text/plain": [
       "<Figure size 432x288 with 1 Axes>"
      ]
     },
     "metadata": {
      "needs_background": "light"
     },
     "output_type": "display_data"
    },
    {
     "name": "stdout",
     "output_type": "stream",
     "text": [
      "\tLabel:  4\n"
     ]
    },
    {
     "data": {
      "image/png": "[encoded data removed]",
      "text/plain": [
       "<Figure size 432x288 with 1 Axes>"
      ]
     },
     "metadata": {
      "needs_background": "light"
     },
     "output_type": "display_data"
    },
    {
     "name": "stdout",
     "output_type": "stream",
     "text": [
      "\tLabel:  7\n"
     ]
    },
    {
     "data": {
      "image/png": "[encoded data removed]",
      "text/plain": [
       "<Figure size 432x288 with 1 Axes>"
      ]
     },
     "metadata": {
      "needs_background": "light"
     },
     "output_type": "display_data"
    },
    {
     "name": "stdout",
     "output_type": "stream",
     "text": [
      "\tLabel:  0\n"
     ]
    },
    {
     "data": {
      "image/png": "[encoded data removed]",
      "text/plain": [
       "<Figure size 432x288 with 1 Axes>"
      ]
     },
     "metadata": {
      "needs_background": "light"
     },
     "output_type": "display_data"
    },
    {
     "name": "stdout",
     "output_type": "stream",
     "text": [
      "\tLabel:  2\n"
     ]
    },
    {
     "data": {
      "image/png": "[encoded data removed]",
      "text/plain": [
       "<Figure size 432x288 with 1 Axes>"
      ]
     },
     "metadata": {
      "needs_background": "light"
     },
     "output_type": "display_data"
    },
    {
     "name": "stdout",
     "output_type": "stream",
     "text": [
      "\tLabel:  6\n"
     ]
    },
    {
     "data": {
      "image/png": "[encoded data removed]",
      "text/plain": [
       "<Figure size 432x288 with 1 Axes>"
      ]
     },
     "metadata": {
      "needs_background": "light"
     },
     "output_type": "display_data"
    },
    {
     "name": "stdout",
     "output_type": "stream",
     "text": [
      "\tLabel:  8\n"
     ]
    },
    {
     "data": {
      "image/png": "[encoded data removed]",
      "text/plain": [
       "<Figure size 432x288 with 1 Axes>"
      ]
     },
     "metadata": {
      "needs_background": "light"
     },
     "output_type": "display_data"
    },
    {
     "name": "stdout",
     "output_type": "stream",
     "text": [
      "\tLabel:  4\n"
     ]
    },
    {
     "data": {
      "image/png": "[encoded data removed]",
      "text/plain": [
       "<Figure size 432x288 with 1 Axes>"
      ]
     },
     "metadata": {
      "needs_background": "light"
     },
     "output_type": "display_data"
    }
   ],
   "source": [
    "# Checking if the data still makes sense\n",
    "\n",
    "print(\"Few training images:\\n\")\n",
    "for i in range(10):\n",
    "    print(\"\\tLabel: \", train_labels[i*5000])\n",
    "    plt.imshow(train_dataset[i*5000])\n",
    "    plt.show()\n",
    "    \n",
    "print(\"Few Testing images:\\n\")\n",
    "for i in range(10):\n",
    "    print(\"\\tLabel: \", test_labels[i*500])\n",
    "    plt.imshow(test_dataset[i*500])\n",
    "    plt.show()\n",
    "\n",
    "print(\"Few Validation images:\\n\")\n",
    "for i in range(10):\n",
    "    print(\"\\tLabel: \", valid_labels[i*500])\n",
    "    plt.imshow(valid_dataset[i*500])\n",
    "    plt.show()"
   ]
  },
  {
   "cell_type": "code",
   "execution_count": 11,
   "metadata": {},
   "outputs": [],
   "source": [
    "#Pickling the datasets for further requirements\n",
    "\n",
    "pickle_file = os.path.join(data_root, 'notMNIST.pickle')\n",
    "\n",
    "try:\n",
    "  f = open(pickle_file, 'wb')\n",
    "  save = {\n",
    "    'train_dataset': train_dataset,\n",
    "    'train_labels': train_labels,\n",
    "    'valid_dataset': valid_dataset,\n",
    "    'valid_labels': valid_labels,\n",
    "    'test_dataset': test_dataset,\n",
    "    'test_labels': test_labels,\n",
    "    }\n",
    "  pickle.dump(save, f, pickle.HIGHEST_PROTOCOL)\n",
    "  f.close()\n",
    "except Exception as e:\n",
    "  print('Unable to save data to', pickle_file, ':', e)\n",
    "  raise\n",
    "    \n",
    "statinfo = os.stat(pickle_file)\n",
    "print('Compressed pickle size:', statinfo.st_size)"
   ]
  },
  {
   "cell_type": "markdown",
   "metadata": {},
   "source": [
    "#### Finding overlaps between train, test and valid datasets"
   ]
  },
  {
   "cell_type": "code",
   "execution_count": 24,
   "metadata": {},
   "outputs": [
    {
     "name": "stdout",
     "output_type": "stream",
     "text": [
      "Calculating hashes of train\n",
      "....................................................................................................\n",
      "Calculating hashes of test\n",
      "....................................................................................................\n",
      "Calculating hashes of valid\n",
      "...................................................................................................."
     ]
    }
   ],
   "source": [
    "# Hashing the datasets to compare them\n",
    "\n",
    "from collections import defaultdict\n",
    "\n",
    "def calchash(img):\n",
    "    s = 0\n",
    "    for row in img:\n",
    "        for pix in row:\n",
    "            s += pix**2\n",
    "    return s\n",
    "\n",
    "train_hashes = set()\n",
    "test_hashes = set()\n",
    "valid_hashes = set()\n",
    "\n",
    "train_map = dict()\n",
    "train_imap = defaultdict(list)\n",
    "\n",
    "test_map = dict()\n",
    "test_imap = defaultdict(list)\n",
    "\n",
    "valid_map = dict()\n",
    "valid_imap = defaultdict(list)\n",
    "\n",
    "print('Calculating hashes of train')\n",
    "for i in range(len(train_labels)):\n",
    "    h = calchash(train_dataset[i])\n",
    "    train_map[i] = h\n",
    "    train_imap[h].append(i)\n",
    "    train_hashes.add(h)\n",
    "    if i%2000 == 0:\n",
    "        print('.', end = '')\n",
    "        \n",
    "print('\\nCalculating hashes of test')\n",
    "for i in range(len(test_labels)):\n",
    "    h = calchash(test_dataset[i])\n",
    "    test_map[i] = h\n",
    "    test_imap[h].append(i)\n",
    "    test_hashes.add(h)\n",
    "    if i%100 == 0:\n",
    "        print('.', end='')\n",
    "\n",
    "\n",
    "print('\\nCalculating hashes of valid')\n",
    "for i in range(len(valid_labels)):\n",
    "    h = calchash(valid_dataset[i])\n",
    "    valid_map[i] = h\n",
    "    valid_imap[h].append(i)\n",
    "    valid_hashes.add(h)\n",
    "    if i%100 == 0:\n",
    "        print('.', end='')\n",
    "\n",
    "#np.array_equal(A,B)  # test if same shape, same elements values\n",
    "#np.array_equiv(A,B)  # test if broadcastable shape, same elements values\n",
    "#np.allclose(A,B,...) # test if same shape, elements have close enough values\n",
    "            "
   ]
  },
  {
   "cell_type": "code",
   "execution_count": 22,
   "metadata": {},
   "outputs": [
    {
     "name": "stdout",
     "output_type": "stream",
     "text": [
      "Training and Testing overlaps:  1317\n",
      "Training and Validtion overlaps:  1085\n",
      "Testing and Validation overlaps:  185\n"
     ]
    }
   ],
   "source": [
    "# Finding out overlaps from the hashes\n",
    "\n",
    "repeated_in_test = set()      #stores training and testing overlaps\n",
    "repeated_in_valid = set()     #stores training and validtion overlaps\n",
    "repeated_test_valid = set()   #stores testing and validation overlaps\n",
    "\n",
    "for i in train_map:\n",
    "    if train_map[i] in test_hashes:\n",
    "        #print(i,\"th train image has same hash as following test images:\",\n",
    "             # \",\".join(map(str, test_imap[train_map[i]]))\n",
    "        for j in test_imap[train_map[i]]:\n",
    "            if np.array_equal(train_dataset[i], test_dataset[j]):\n",
    "                #print('same image', j)\n",
    "                repeated_in_test.add(j)\n",
    "\n",
    "for i in train_map:\n",
    "    if train_map[i] in valid_hashes:\n",
    "        for j in valid_imap[train_map[i]]:\n",
    "            if np.array_equal(train_dataset[i], valid_dataset[j]):\n",
    "                repeated_in_valid.add(j)\n",
    "\n",
    "for i in test_map:\n",
    "    if test_map[i] in valid_hashes:\n",
    "        for j in valid_imap[test_map[i]]:\n",
    "            if np.array_equal(test_dataset[i], valid_dataset[j]):\n",
    "                repeated_test_valid.add(j)\n",
    "                \n",
    "\n",
    "print('Training and Testing overlaps: ', len(repeated_in_test))\n",
    "print('Training and Validtion overlaps: ', len(repeated_in_valid))\n",
    "print('Testing and Validation overlaps: ', len(repeated_test_valid))\n"
   ]
  },
  {
   "cell_type": "markdown",
   "metadata": {},
   "source": [
    "### Running Logistic Regression from the final datasets using Scikit-Learn"
   ]
  },
  {
   "cell_type": "code",
   "execution_count": 21,
   "metadata": {},
   "outputs": [
    {
     "name": "stdout",
     "output_type": "stream",
     "text": [
      "Loading data...\n",
      "\n",
      "\n",
      "\n",
      "Training model using 50 images\n",
      "\n",
      "Starting fitting...\n",
      "max_iter reached after 0 seconds\n",
      "max_iter reached after 0 seconds\n",
      "max_iter reached after 0 seconds\n",
      "max_iter reached after 0 seconds\n"
     ]
    },
    {
     "name": "stderr",
     "output_type": "stream",
     "text": [
      "/home/adishree/Desktop/udact/lib/python3.5/site-packages/sklearn/linear_model/sag.py:326: ConvergenceWarning: The max_iter was reached which means the coef_ did not converge\n",
      "  \"the coef_ did not converge\", ConvergenceWarning)\n"
     ]
    },
    {
     "name": "stdout",
     "output_type": "stream",
     "text": [
      "max_iter reached after 0 seconds\n",
      "max_iter reached after 1 seconds\n",
      "max_iter reached after 1 seconds\n",
      "max_iter reached after 1 seconds\n",
      "max_iter reached after 1 seconds\n",
      "max_iter reached after 0 seconds\n",
      "\n",
      "Model trained on 50 images!\n",
      "\n",
      "\n",
      "Mean accuracy on Validation Dataset =  0.4 \n",
      "\n",
      "\n",
      "Other evaluations on Validation Dataset: \n",
      "              precision    recall  f1-score   support\n",
      "\n",
      "          A       0.50      0.50      0.50         2\n",
      "          B       0.17      0.33      0.22         3\n",
      "          C       0.50      0.33      0.40         3\n",
      "          D       0.50      0.33      0.40         3\n",
      "          E       0.00      0.00      0.00         4\n",
      "          F       0.00      0.00      0.00         0\n",
      "          G       0.00      0.00      0.00         1\n",
      "          H       1.00      0.33      0.50         3\n",
      "          I       0.50      0.50      0.50         2\n",
      "          J       0.80      1.00      0.89         4\n",
      "\n",
      "avg / total       0.47      0.40      0.40        25\n",
      "\n"
     ]
    },
    {
     "name": "stderr",
     "output_type": "stream",
     "text": [
      "[Parallel(n_jobs=-1)]: Done  10 out of  10 | elapsed:    0.7s finished\n",
      "/home/adishree/Desktop/udact/lib/python3.5/site-packages/sklearn/metrics/classification.py:1137: UndefinedMetricWarning: Recall and F-score are ill-defined and being set to 0.0 in labels with no true samples.\n",
      "  'recall', 'true', average, warn_for)\n",
      "/home/adishree/Desktop/udact/lib/python3.5/site-packages/sklearn/metrics/classification.py:1135: UndefinedMetricWarning: Precision and F-score are ill-defined and being set to 0.0 in labels with no predicted samples.\n",
      "  'precision', 'predicted', average, warn_for)\n"
     ]
    },
    {
     "name": "stdout",
     "output_type": "stream",
     "text": [
      "\n",
      "\n",
      "Mean accuracy on Test Dataset =  0.72 \n",
      "\n",
      "\n",
      "Other evaluations on Test Dataset: \n",
      "              precision    recall  f1-score   support\n",
      "\n",
      "          A       1.00      0.33      0.50         3\n",
      "          B       0.50      1.00      0.67         1\n",
      "          C       1.00      0.67      0.80         3\n",
      "          D       1.00      1.00      1.00         1\n",
      "          E       0.50      0.50      0.50         2\n",
      "          F       0.00      0.00      0.00         1\n",
      "          G       0.60      1.00      0.75         3\n",
      "          H       0.80      0.67      0.73         6\n",
      "          I       0.75      1.00      0.86         3\n",
      "          J       0.67      1.00      0.80         2\n",
      "\n",
      "avg / total       0.75      0.72      0.69        25\n",
      "\n",
      "\n",
      "\n",
      "\n",
      "Training model using 100 images\n",
      "\n",
      "Starting fitting...\n",
      "max_iter reached after 0 seconds\n",
      "max_iter reached after 0 seconds\n",
      "max_iter reached after 0 seconds\n",
      "max_iter reached after 0 seconds\n",
      "max_iter reached after 1 seconds\n",
      "max_iter reached after 1 seconds\n",
      "max_iter reached after 1 seconds\n",
      "max_iter reached after 1 seconds\n",
      "max_iter reached after 0 seconds\n",
      "max_iter reached after 0 seconds\n",
      "\n",
      "Model trained on 100 images!\n",
      "\n",
      "\n",
      "Mean accuracy on Validation Dataset =  0.48 \n",
      "\n",
      "\n",
      "Other evaluations on Validation Dataset: \n",
      "              precision    recall  f1-score   support\n",
      "\n",
      "          A       0.67      0.67      0.67         3\n",
      "          B       0.20      0.33      0.25         3\n",
      "          C       0.18      0.50      0.27         4\n",
      "          D       0.67      0.50      0.57         8\n",
      "          E       0.50      0.60      0.55         5\n",
      "          F       0.00      0.00      0.00         2\n",
      "          G       0.25      0.33      0.29         3\n",
      "          H       0.67      0.33      0.44         6\n",
      "          I       0.75      0.43      0.55         7\n",
      "          J       0.75      0.67      0.71         9\n",
      "\n",
      "avg / total       0.56      0.48      0.50        50\n",
      "\n",
      "\n",
      "\n",
      "Mean accuracy on Test Dataset =  "
     ]
    },
    {
     "name": "stderr",
     "output_type": "stream",
     "text": [
      "[Parallel(n_jobs=-1)]: Done  10 out of  10 | elapsed:    1.3s finished\n"
     ]
    },
    {
     "name": "stdout",
     "output_type": "stream",
     "text": [
      "0.74 \n",
      "\n",
      "\n",
      "Other evaluations on Test Dataset: \n",
      "              precision    recall  f1-score   support\n",
      "\n",
      "          A       1.00      0.40      0.57         5\n",
      "          B       0.75      0.50      0.60         6\n",
      "          C       0.73      0.89      0.80         9\n",
      "          D       0.83      1.00      0.91         5\n",
      "          E       0.50      0.50      0.50         2\n",
      "          F       0.50      0.50      0.50         2\n",
      "          G       0.75      0.60      0.67         5\n",
      "          H       0.86      0.75      0.80         8\n",
      "          I       0.83      1.00      0.91         5\n",
      "          J       0.50      1.00      0.67         3\n",
      "\n",
      "avg / total       0.77      0.74      0.73        50\n",
      "\n",
      "\n",
      "\n",
      "\n",
      "Training model using 1000 images\n",
      "\n",
      "Starting fitting...\n",
      "max_iter reached after 5 seconds\n",
      "max_iter reached after 5 seconds\n",
      "max_iter reached after 5 seconds\n",
      "max_iter reached after 5 seconds\n",
      "max_iter reached after 5 seconds\n",
      "max_iter reached after 5 seconds\n",
      "max_iter reached after 5 seconds\n",
      "max_iter reached after 5 seconds\n",
      "convergence after 166 epochs took 2 seconds\n",
      "max_iter reached after 2 seconds\n",
      "\n",
      "Model trained on 1000 images!\n",
      "\n",
      "\n",
      "Mean accuracy on Validation Dataset =  0.732 \n",
      "\n",
      "\n",
      "Other evaluations on Validation Dataset: \n",
      "              precision    recall  f1-score   support\n",
      "\n",
      "          A       0.74      0.71      0.72        41\n",
      "          B       0.80      0.64      0.71        55\n",
      "          C       0.86      0.81      0.83        52\n",
      "          D       0.77      0.77      0.77        53\n",
      "          E       0.68      0.63      0.65        51\n",
      "          F       0.69      0.81      0.74        43\n",
      "          G       0.70      0.74      0.72        43\n",
      "          H       0.74      0.78      0.76        59\n",
      "          I       0.69      0.70      0.70        57\n",
      "          J       0.67      0.74      0.70        46\n",
      "\n",
      "avg / total       0.74      0.73      0.73       500\n",
      "\n",
      "\n",
      "\n",
      "Mean accuracy on Test Dataset =  0.83 \n",
      "\n",
      "\n",
      "Other evaluations on Test Dataset: \n",
      "              precision    recall  f1-score   support\n",
      "\n",
      "          A       0.90      0.88      0.89        50\n",
      "          B       0.86      0.81      0.83        59\n",
      "          C       0.81      0.88      0.84        52\n",
      "          D       0.86      0.93      0.89        41\n",
      "          E       0.80      0.71      0.75        49\n",
      "          F       0.88      0.86      0.87        49\n",
      "          G       0.89      0.80      0.84        49\n",
      "          H       0.87      0.90      0.88        58\n",
      "          I       0.75      0.71      0.73        56\n",
      "          J       0.69      0.84      0.76        37\n",
      "\n",
      "avg / total       0.83      0.83      0.83       500\n",
      "\n",
      "\n",
      "\n",
      "\n",
      "Training model using 5000 images\n",
      "\n",
      "Starting fitting...\n"
     ]
    },
    {
     "name": "stderr",
     "output_type": "stream",
     "text": [
      "[Parallel(n_jobs=-1)]: Done  10 out of  10 | elapsed:   12.1s finished\n"
     ]
    },
    {
     "name": "stdout",
     "output_type": "stream",
     "text": [
      "convergence after 185 epochs took 22 seconds\n",
      "convergence after 187 epochs took 23 seconds\n",
      "max_iter reached after 24 seconds\n",
      "convergence after 198 epochs took 24 seconds\n",
      "convergence after 197 epochs took 25 seconds\n",
      "max_iter reached after 24 seconds\n",
      "convergence after 196 epochs took 24 seconds\n",
      "convergence after 198 epochs took 24 seconds\n",
      "convergence after 182 epochs took 13 seconds\n",
      "convergence after 188 epochs took 13 seconds\n",
      "\n",
      "Model trained on 5000 images!\n",
      "\n",
      "Mean accuracy on Validation Dataset =  0.7752 \n",
      "\n",
      "\n",
      "Other evaluations on Validation Dataset: \n",
      "              precision    recall  f1-score   support\n",
      "\n",
      "          A       0.79      0.76      0.77       210\n",
      "          B       0.81      0.74      0.78       247\n",
      "          C       0.75      0.79      0.77       239\n",
      "          D       0.77      0.84      0.80       243\n",
      "          E       0.75      0.73      0.74       257\n",
      "          F       0.80      0.82      0.81       247\n",
      "          G       0.78      0.75      0.76       241\n",
      "          H       0.80      0.77      0.78       258\n",
      "          I       0.69      0.77      0.73       267\n",
      "          J       0.83      0.78      0.80       291\n",
      "\n",
      "avg / total       0.78      0.78      0.78      2500\n",
      "\n",
      "\n",
      "\n",
      "Mean accuracy on Test Dataset =  0.844 \n",
      "\n",
      "\n",
      "Other evaluations on Test Dataset: \n",
      "              precision    recall  f1-score   support\n",
      "\n",
      "          A       0.88      0.85      0.86       259\n",
      "          B       0.91      0.86      0.88       268\n",
      "          C       0.81      0.91      0.86       236\n",
      "          D       0.84      0.91      0.88       232\n",
      "          E       0.84      0.82      0.83       252\n",
      "          F       0.84      0.85      0.85       228\n",
      "          G       0.89      0.80      0.84       271\n",
      "          H       0.88      0.85      0.86       253\n",
      "          I       0.75      0.79      0.77       257\n",
      "          J       0.81      0.83      0.82       244\n",
      "\n",
      "avg / total       0.85      0.84      0.84      2500\n",
      "\n",
      "\n",
      "\n",
      "\n",
      "Training model using 200000 images\n",
      "\n",
      "Starting fitting...\n"
     ]
    },
    {
     "name": "stderr",
     "output_type": "stream",
     "text": [
      "[Parallel(n_jobs=-1)]: Done  10 out of  10 | elapsed:  1.0min finished\n"
     ]
    },
    {
     "name": "stdout",
     "output_type": "stream",
     "text": [
      "convergence after 51 epochs took 240 seconds\n",
      "convergence after 58 epochs took 271 seconds\n",
      "convergence after 58 epochs took 271 seconds\n",
      "convergence after 77 epochs took 353 seconds\n",
      "convergence after 58 epochs took 251 seconds\n",
      "convergence after 52 epochs took 225 seconds\n",
      "convergence after 53 epochs took 228 seconds\n",
      "convergence after 86 epochs took 355 seconds\n",
      "convergence after 64 epochs took 199 seconds\n",
      "convergence after 67 epochs took 205 seconds\n"
     ]
    },
    {
     "name": "stderr",
     "output_type": "stream",
     "text": [
      "[Parallel(n_jobs=-1)]: Done  10 out of  10 | elapsed: 11.7min finished\n"
     ]
    },
    {
     "name": "stdout",
     "output_type": "stream",
     "text": [
      "\n",
      "Model trained on 5000 images!\n",
      "\n",
      "Mean accuracy on Validation Dataset =  0.8215 \n",
      "\n",
      "\n",
      "Other evaluations on Validation Dataset: \n",
      "              precision    recall  f1-score   support\n",
      "\n",
      "          A       0.84      0.83      0.84      1000\n",
      "          B       0.84      0.80      0.82      1000\n",
      "          C       0.82      0.87      0.84      1000\n",
      "          D       0.84      0.85      0.85      1000\n",
      "          E       0.84      0.75      0.79      1000\n",
      "          F       0.84      0.88      0.86      1000\n",
      "          G       0.80      0.79      0.80      1000\n",
      "          H       0.82      0.84      0.83      1000\n",
      "          I       0.75      0.76      0.76      1000\n",
      "          J       0.82      0.85      0.83      1000\n",
      "\n",
      "avg / total       0.82      0.82      0.82     10000\n",
      "\n",
      "\n",
      "\n",
      "Mean accuracy on Test Dataset =  0.8944 \n",
      "\n",
      "\n",
      "Other evaluations on Test Dataset: \n",
      "              precision    recall  f1-score   support\n",
      "\n",
      "          A       0.91      0.88      0.90      1000\n",
      "          B       0.93      0.88      0.90      1000\n",
      "          C       0.89      0.94      0.91      1000\n",
      "          D       0.91      0.93      0.92      1000\n",
      "          E       0.90      0.86      0.88      1000\n",
      "          F       0.88      0.93      0.91      1000\n",
      "          G       0.90      0.88      0.89      1000\n",
      "          H       0.91      0.88      0.90      1000\n",
      "          I       0.83      0.85      0.84      1000\n",
      "          J       0.87      0.91      0.89      1000\n",
      "\n",
      "avg / total       0.90      0.89      0.89     10000\n",
      "\n"
     ]
    }
   ],
   "source": [
    "from sklearn.linear_model import LogisticRegression\n",
    "from sklearn import metrics\n",
    "\n",
    "data = pickle.load( open( \".data/notMNIST.pickle\", \"rb\" ) )\n",
    "\n",
    "print(\"Loading data...\")\n",
    "\n",
    "train_data = data['train_dataset']\n",
    "train_label = data['train_labels']\n",
    "\n",
    "test_data = data['test_dataset']\n",
    "test_label = data['test_labels']\n",
    "\n",
    "valid_data = data['valid_dataset']\n",
    "valid_label = data['valid_labels']\n",
    "\n",
    "#print(\"Dimensions of training dataset before compressing each image:\",train_data.shape)\n",
    "#Compressing each image in a single array\n",
    "train_data = train_data.reshape(200000, 784)\n",
    "test_data = test_data.reshape(10000, 784)\n",
    "valid_data = valid_data.reshape(10000, 784)\n",
    "#print(\"Dimensions of training dataset after compressing each image:\", train_data.shape)\n",
    "\n",
    "\n",
    "print(\"\\n\\n\\nTraining model using 50 images\")\n",
    "\n",
    "classifier1 = LogisticRegression(verbose=1, n_jobs=-1,solver='sag', max_iter=200)\n",
    "print(\"\\nStarting fitting...\")\n",
    "classifier1.fit(train_data[:50], train_labels[:50])\n",
    "print(\"\\nModel trained on 50 images!\")\n",
    "\n",
    "print(\"\\n\\nMean accuracy on Validation Dataset = \", classifier1.score(valid_data[:25], valid_label[:25]),\"\\n\")\n",
    "predicted_label = classifier1.predict(valid_data[:25])\n",
    "print(\"\\nOther evaluations on Validation Dataset: \\n\", metrics.classification_report(valid_label[:25], predicted_label, target_names=['A','B','C','D','E','F','G','H','I','J']))\n",
    "\n",
    "print(\"\\n\\nMean accuracy on Test Dataset = \", classifier1.score(test_data[:25], test_label[:25]),\"\\n\")\n",
    "predicted_label = classifier1.predict(test_data[:25])\n",
    "print(\"\\nOther evaluations on Test Dataset: \\n\", metrics.classification_report(test_label[:25], predicted_label, target_names=['A','B','C','D','E','F','G','H','I','J']))\n",
    "\n",
    "\n",
    "\n",
    "\n",
    "print(\"\\n\\n\\nTraining model using 100 images\")\n",
    "\n",
    "classifier2 = LogisticRegression(verbose=1, n_jobs=-1,solver='sag', max_iter=200)\n",
    "print(\"\\nStarting fitting...\")\n",
    "classifier2.fit(train_data[:100], train_labels[:100])\n",
    "print(\"\\nModel trained on 100 images!\")\n",
    "\n",
    "print(\"\\n\\nMean accuracy on Validation Dataset = \", classifier2.score(valid_data[:50], valid_label[:50]),\"\\n\")\n",
    "predicted_label = classifier2.predict(valid_data[:50])\n",
    "print(\"\\nOther evaluations on Validation Dataset: \\n\", metrics.classification_report(valid_label[:50], predicted_label, target_names=['A','B','C','D','E','F','G','H','I','J']))\n",
    "\n",
    "print(\"\\n\\nMean accuracy on Test Dataset = \", classifier2.score(test_data[:50], test_label[:50]),\"\\n\")\n",
    "predicted_label = classifier2.predict(test_data[:50])\n",
    "print(\"\\nOther evaluations on Test Dataset: \\n\", metrics.classification_report(test_label[:50], predicted_label, target_names=['A','B','C','D','E','F','G','H','I','J']))\n",
    "\n",
    "\n",
    "\n",
    "\n",
    "print(\"\\n\\n\\nTraining model using 1000 images\")\n",
    "\n",
    "classifier3 = LogisticRegression(verbose=1, n_jobs=-1,solver='sag', max_iter=200)\n",
    "print(\"\\nStarting fitting...\")\n",
    "classifier3.fit(train_data[:1000], train_labels[:1000])\n",
    "print(\"\\nModel trained on 1000 images!\")\n",
    "\n",
    "print(\"\\n\\nMean accuracy on Validation Dataset = \", classifier3.score(valid_data[:500], valid_label[:500]),\"\\n\")\n",
    "predicted_label = classifier3.predict(valid_data[:500])\n",
    "print(\"\\nOther evaluations on Validation Dataset: \\n\", metrics.classification_report(valid_label[:500], predicted_label, target_names=['A','B','C','D','E','F','G','H','I','J']))\n",
    "\n",
    "print(\"\\n\\nMean accuracy on Test Dataset = \", classifier3.score(test_data[:500], test_label[:500]),\"\\n\")\n",
    "predicted_label = classifier3.predict(test_data[:500])\n",
    "print(\"\\nOther evaluations on Test Dataset: \\n\", metrics.classification_report(test_label[:500], predicted_label, target_names=['A','B','C','D','E','F','G','H','I','J']))\n",
    "\n",
    "\n",
    "\n",
    "\n",
    "print(\"\\n\\n\\nTraining model using 5000 images\")\n",
    "\n",
    "classifier4 = LogisticRegression(verbose=1, n_jobs=-1,solver='sag', max_iter=200)\n",
    "print(\"\\nStarting fitting...\")\n",
    "classifier4.fit(train_data[:5000], train_labels[:5000])\n",
    "print(\"\\nModel trained on 5000 images!\")\n",
    "\n",
    "print(\"\\nMean accuracy on Validation Dataset = \", classifier4.score(valid_data[:2500], valid_label[:2500]),\"\\n\")\n",
    "predicted_label = classifier4.predict(valid_data[:2500])\n",
    "print(\"\\nOther evaluations on Validation Dataset: \\n\", metrics.classification_report(valid_label[:2500], predicted_label, target_names=['A','B','C','D','E','F','G','H','I','J']))\n",
    "\n",
    "print(\"\\n\\nMean accuracy on Test Dataset = \", classifier4.score(test_data[:2500], test_label[:2500]),\"\\n\")\n",
    "predicted_label = classifier4.predict(test_data[:2500])\n",
    "print(\"\\nOther evaluations on Test Dataset: \\n\", metrics.classification_report(test_label[:2500], predicted_label, target_names=['A','B','C','D','E','F','G','H','I','J']))\n",
    "\n",
    "\n",
    "\n",
    "\n",
    "print(\"\\n\\n\\nTraining model using 200000 images\")\n",
    "\n",
    "classifier5 = LogisticRegression(verbose=1, n_jobs=-1,solver='sag', max_iter=200)\n",
    "print(\"\\nStarting fitting...\")\n",
    "classifier5.fit(train_data, train_labels)\n",
    "print(\"\\nModel trained on 5000 images!\")\n",
    "\n",
    "print(\"\\nMean accuracy on Validation Dataset = \", classifier5.score(valid_data, valid_label),\"\\n\")\n",
    "predicted_label = classifier5.predict(valid_data)\n",
    "print(\"\\nOther evaluations on Validation Dataset: \\n\", metrics.classification_report(valid_label, predicted_label, target_names=['A','B','C','D','E','F','G','H','I','J']))\n",
    "\n",
    "print(\"\\n\\nMean accuracy on Test Dataset = \", classifier5.score(test_data, test_label),\"\\n\")\n",
    "predicted_label = classifier5.predict(test_data)\n",
    "print(\"\\nOther evaluations on Test Dataset: \\n\", metrics.classification_report(test_label, predicted_label, target_names=['A','B','C','D','E','F','G','H','I','J']))\n",
    "\n"
   ]
  }
 ],
 "metadata": {
  "kernelspec": {
   "display_name": "Python 3",
   "language": "python",
   "name": "python3"
  },
  "language_info": {
   "codemirror_mode": {
    "name": "ipython",
    "version": 3
   },
   "file_extension": ".py",
   "mimetype": "text/x-python",
   "name": "python",
   "nbconvert_exporter": "python",
   "pygments_lexer": "ipython3",
   "version": "3.5.2"
  }
 },
 "nbformat": 4,
 "nbformat_minor": 2
}
