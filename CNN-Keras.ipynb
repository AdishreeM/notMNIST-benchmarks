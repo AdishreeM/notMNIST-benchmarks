{
 "cells": [
  {
   "cell_type": "markdown",
   "metadata": {},
   "source": [
    "## Implementing CNN using KERAS"
   ]
  },
  {
   "cell_type": "code",
   "execution_count": 8,
   "metadata": {},
   "outputs": [
    {
     "name": "stdout",
     "output_type": "stream",
     "text": [
      "All libs imported.\n"
     ]
    }
   ],
   "source": [
    "# Importing libraries\n",
    "\n",
    "from __future__ import print_function\n",
    "import numpy as np\n",
    "import keras\n",
    "import tensorflow as tf\n",
    "from six.moves import cPickle as pickle\n",
    "from six.moves import range\n",
    "\n",
    "from keras.layers import Input, Dense, Dropout, Flatten, Conv2D, MaxPooling2D\n",
    "from keras.models import Model, Sequential\n",
    "from keras import backend as K\n",
    "\n",
    "print(\"All libs imported.\")"
   ]
  },
  {
   "cell_type": "code",
   "execution_count": 9,
   "metadata": {},
   "outputs": [
    {
     "name": "stdout",
     "output_type": "stream",
     "text": [
      "Training set (200000, 28, 28) (200000,)\n",
      "Validation set (10000, 28, 28) (10000,)\n",
      "Test set (10000, 28, 28) (10000,)\n"
     ]
    }
   ],
   "source": [
    "# Loading the notMNIST dataset\n",
    "\n",
    "pickle_file = './data/notMNIST.pickle'\n",
    "\n",
    "with open(pickle_file, 'rb') as f:\n",
    "    save = pickle.load(f)\n",
    "    train_dataset = save['train_dataset']\n",
    "    train_labels = save['train_labels']\n",
    "    valid_dataset = save['valid_dataset']\n",
    "    valid_labels = save['valid_labels']\n",
    "    test_dataset = save['test_dataset']\n",
    "    test_labels = save['test_labels']\n",
    "    del save  # hint to help gc free up memory\n",
    "    print('Training set', train_dataset.shape, train_labels.shape)\n",
    "    print('Validation set', valid_dataset.shape, valid_labels.shape)\n",
    "    print('Test set', test_dataset.shape, test_labels.shape)"
   ]
  },
  {
   "cell_type": "markdown",
   "metadata": {},
   "source": [
    "##### Reshaping dataset for CNN with input data as a 3D object and label as float 1-Hot Encoding "
   ]
  },
  {
   "cell_type": "code",
   "execution_count": 10,
   "metadata": {},
   "outputs": [
    {
     "name": "stdout",
     "output_type": "stream",
     "text": [
      "Training set (200000, 28, 28, 1) (200000, 10)\n",
      "Validation set (10000, 28, 28, 1) (10000, 10)\n",
      "Test set (10000, 28, 28, 1) (10000, 10)\n"
     ]
    }
   ],
   "source": [
    "image_size = 28\n",
    "num_labels = 10\n",
    "num_channels = 1 # grayscale\n",
    "\n",
    "def reformat(dataset, labels):\n",
    "    dataset = dataset.reshape((-1, image_size, image_size, num_channels)).astype(np.float32)\n",
    "    labels = (np.arange(num_labels) == labels[:,None]).astype(np.float32)\n",
    "    return dataset, labels\n",
    "\n",
    "train_dataset, train_labels = reformat(train_dataset, train_labels)\n",
    "valid_dataset, valid_labels = reformat(valid_dataset, valid_labels)\n",
    "test_dataset, test_labels = reformat(test_dataset, test_labels)\n",
    "print('Training set', train_dataset.shape, train_labels.shape)\n",
    "print('Validation set', valid_dataset.shape, valid_labels.shape)\n",
    "print('Test set', test_dataset.shape, test_labels.shape)"
   ]
  },
  {
   "cell_type": "markdown",
   "metadata": {},
   "source": [
    "### CNN  using Keras Sequential Model 1"
   ]
  },
  {
   "cell_type": "code",
   "execution_count": 4,
   "metadata": {},
   "outputs": [
    {
     "name": "stdout",
     "output_type": "stream",
     "text": [
      "Train on 200000 samples, validate on 10000 samples\n",
      "Epoch 1/12\n",
      "200000/200000 [==============================] - 1241s 6ms/step - loss: 0.4818 - acc: 0.8608 - val_loss: 0.3609 - val_acc: 0.8918\n",
      "Epoch 2/12\n",
      "200000/200000 [==============================] - 1300s 7ms/step - loss: 0.4311 - acc: 0.8768 - val_loss: 0.3542 - val_acc: 0.8964\n",
      "Epoch 3/12\n",
      "200000/200000 [==============================] - 1228s 6ms/step - loss: 0.4229 - acc: 0.8785 - val_loss: 0.3526 - val_acc: 0.8953\n",
      "Epoch 4/12\n",
      "200000/200000 [==============================] - 1146s 6ms/step - loss: 0.4222 - acc: 0.8797 - val_loss: 0.3511 - val_acc: 0.8968\n",
      "Epoch 5/12\n",
      "200000/200000 [==============================] - 1135s 6ms/step - loss: 0.4228 - acc: 0.8805 - val_loss: 0.3450 - val_acc: 0.8968\n",
      "Epoch 6/12\n",
      "200000/200000 [==============================] - 1159s 6ms/step - loss: 0.4234 - acc: 0.8809 - val_loss: 0.3501 - val_acc: 0.8983\n",
      "Epoch 7/12\n",
      "200000/200000 [==============================] - 1235s 6ms/step - loss: 0.4261 - acc: 0.8812 - val_loss: 0.3836 - val_acc: 0.8918\n",
      "Epoch 8/12\n",
      "200000/200000 [==============================] - 1239s 6ms/step - loss: 0.4335 - acc: 0.8803 - val_loss: 0.3564 - val_acc: 0.8985\n",
      "Epoch 9/12\n",
      "200000/200000 [==============================] - 1250s 6ms/step - loss: 0.4343 - acc: 0.8809 - val_loss: 0.3664 - val_acc: 0.8950\n",
      "Epoch 10/12\n",
      "200000/200000 [==============================] - 1242s 6ms/step - loss: 0.4389 - acc: 0.8793 - val_loss: 0.8155 - val_acc: 0.8031\n",
      "Epoch 11/12\n",
      "200000/200000 [==============================] - 1239s 6ms/step - loss: 0.4416 - acc: 0.8789 - val_loss: 0.3547 - val_acc: 0.8991\n",
      "Epoch 12/12\n",
      "200000/200000 [==============================] - 1236s 6ms/step - loss: 0.4462 - acc: 0.8781 - val_loss: 0.3566 - val_acc: 0.8971\n",
      "Test loss: 0.18124555412828922\n",
      "Test accuracy: 0.9501\n"
     ]
    }
   ],
   "source": [
    "# MODEL: conv -> conv -> maxpool -> NN classifier with 1 hidden layer, dropouts\n",
    "\n",
    "input_shape = [image_size, image_size, num_channels]\n",
    "batch_size = 16\n",
    "epochs = 12\n",
    "\n",
    "model = Sequential()\n",
    "\n",
    "model.add(Conv2D(32, kernel_size=(3, 3), activation='relu', input_shape=input_shape))\n",
    "model.add(Conv2D(64, (3, 3), activation='relu'))\n",
    "model.add(MaxPooling2D(pool_size=(2, 2)))\n",
    "model.add(Dropout(0.25))\n",
    "model.add(Flatten())\n",
    "model.add(Dense(128, activation='relu'))\n",
    "model.add(Dropout(0.5))\n",
    "model.add(Dense(num_labels, activation='softmax'))\n",
    "\n",
    "model.compile(loss=keras.losses.categorical_crossentropy, \n",
    "              optimizer=keras.optimizers.Adadelta(),\n",
    "              metrics=['accuracy'])\n",
    "\n",
    "model.fit(train_dataset, train_labels,\n",
    "          batch_size=batch_size,\n",
    "          epochs=epochs,\n",
    "          verbose=1,\n",
    "          validation_data=(valid_dataset, valid_labels))\n",
    "\n",
    "score = model.evaluate(test_dataset, test_labels, verbose=0)\n",
    "\n",
    "print('Test loss:', score[0])\n",
    "print('Test accuracy:', score[1])"
   ]
  },
  {
   "cell_type": "markdown",
   "metadata": {},
   "source": [
    "### CNN using Keras Sequential Model 2"
   ]
  },
  {
   "cell_type": "code",
   "execution_count": 1,
   "metadata": {
    "scrolled": true
   },
   "outputs": [
    {
     "ename": "NameError",
     "evalue": "name 'image_size' is not defined",
     "output_type": "error",
     "traceback": [
      "\u001b[0;31m---------------------------------------------------------------------------\u001b[0m",
      "\u001b[0;31mNameError\u001b[0m                                 Traceback (most recent call last)",
      "\u001b[0;32m<ipython-input-1-a12cc8604b77>\u001b[0m in \u001b[0;36m<module>\u001b[0;34m()\u001b[0m\n\u001b[1;32m      1\u001b[0m \u001b[0;31m# MODEL: conv -> maxpool -> conv -> maxpool -> classifier with 1 hidden layer, dropouts\u001b[0m\u001b[0;34m\u001b[0m\u001b[0;34m\u001b[0m\u001b[0m\n\u001b[1;32m      2\u001b[0m \u001b[0;34m\u001b[0m\u001b[0m\n\u001b[0;32m----> 3\u001b[0;31m \u001b[0minput_shape\u001b[0m \u001b[0;34m=\u001b[0m \u001b[0;34m[\u001b[0m\u001b[0mimage_size\u001b[0m\u001b[0;34m,\u001b[0m \u001b[0mimage_size\u001b[0m\u001b[0;34m,\u001b[0m \u001b[0mnum_channels\u001b[0m\u001b[0;34m]\u001b[0m\u001b[0;34m\u001b[0m\u001b[0m\n\u001b[0m\u001b[1;32m      4\u001b[0m \u001b[0mbatch_size\u001b[0m \u001b[0;34m=\u001b[0m \u001b[0;36m200\u001b[0m\u001b[0;34m\u001b[0m\u001b[0m\n\u001b[1;32m      5\u001b[0m \u001b[0mepochs\u001b[0m \u001b[0;34m=\u001b[0m \u001b[0;36m10\u001b[0m\u001b[0;34m\u001b[0m\u001b[0m\n",
      "\u001b[0;31mNameError\u001b[0m: name 'image_size' is not defined"
     ]
    }
   ],
   "source": [
    "# MODEL: conv -> maxpool -> conv -> maxpool -> NN classifier with 1 hidden layer, dropouts\n",
    "\n",
    "input_shape = [image_size, image_size, num_channels]\n",
    "batch_size = 200\n",
    "epochs = 10\n",
    "\n",
    "model = Sequential()\n",
    "\n",
    "model.add(Conv2D(32, (5, 5), padding = 'same', activation = 'relu', input_shape = input_shape))\n",
    "model.add(MaxPooling2D(pool_size = (2, 2), strides = (2, 2), padding ='same'))\n",
    "model.add(Dropout(0.20))\n",
    "model.add(Conv2D(16, (3, 3), padding = 'same', activation ='relu'))\n",
    "model.add(MaxPooling2D(pool_size = (2, 2), strides = (2, 2), padding ='same'))\n",
    "model.add(Dropout(0.20))\n",
    "model.add(Flatten())\n",
    "model.add(Dense(128, activation='relu'))\n",
    "model.add(Dropout(0.35))\n",
    "model.add(Dense(num_labels, activation='softmax'))\n",
    "\n",
    "model.compile(loss=keras.losses.categorical_crossentropy, \n",
    "              optimizer=keras.optimizers.Adadelta(),\n",
    "              metrics=['accuracy'])\n",
    "\n",
    "model.fit(train_dataset, train_labels,\n",
    "          batch_size=batch_size,\n",
    "          epochs=epochs,\n",
    "          verbose=1,\n",
    "          validation_data=(valid_dataset, valid_labels))\n",
    "\n",
    "score = model.evaluate(test_dataset, test_labels, verbose=0)\n",
    "\n",
    "print('Test loss:', score[0])\n",
    "print('Test accuracy:', score[1])"
   ]
  },
  {
   "cell_type": "markdown",
   "metadata": {},
   "source": [
    "### CNN  using Keras Sequential Model 3 (LeNet-ish)"
   ]
  },
  {
   "cell_type": "code",
   "execution_count": 12,
   "metadata": {},
   "outputs": [
    {
     "name": "stdout",
     "output_type": "stream",
     "text": [
      "Train on 200000 samples, validate on 10000 samples\n",
      "Epoch 1/10\n",
      "200000/200000 [==============================] - 400s 2ms/step - loss: 0.5720 - acc: 0.8258 - val_loss: 0.3634 - val_acc: 0.8909\n",
      "Epoch 2/10\n",
      "200000/200000 [==============================] - 390s 2ms/step - loss: 0.4081 - acc: 0.8761 - val_loss: 0.3236 - val_acc: 0.9008\n",
      "Epoch 3/10\n",
      "200000/200000 [==============================] - 383s 2ms/step - loss: 0.3754 - acc: 0.8853 - val_loss: 0.3040 - val_acc: 0.9098\n",
      "Epoch 4/10\n",
      "200000/200000 [==============================] - 382s 2ms/step - loss: 0.3575 - acc: 0.8909 - val_loss: 0.2930 - val_acc: 0.9131\n",
      "Epoch 5/10\n",
      "200000/200000 [==============================] - 381s 2ms/step - loss: 0.3458 - acc: 0.8938 - val_loss: 0.2852 - val_acc: 0.9141\n",
      "Epoch 6/10\n",
      "200000/200000 [==============================] - 381s 2ms/step - loss: 0.3356 - acc: 0.8976 - val_loss: 0.2822 - val_acc: 0.9160\n",
      "Epoch 7/10\n",
      "200000/200000 [==============================] - 396s 2ms/step - loss: 0.3286 - acc: 0.8992 - val_loss: 0.2768 - val_acc: 0.9163\n",
      "Epoch 8/10\n",
      "200000/200000 [==============================] - 392s 2ms/step - loss: 0.3218 - acc: 0.9017 - val_loss: 0.2713 - val_acc: 0.9177\n",
      "Epoch 9/10\n",
      "200000/200000 [==============================] - 386s 2ms/step - loss: 0.3172 - acc: 0.9027 - val_loss: 0.2696 - val_acc: 0.9203\n",
      "Epoch 10/10\n",
      "200000/200000 [==============================] - 389s 2ms/step - loss: 0.3128 - acc: 0.9036 - val_loss: 0.2681 - val_acc: 0.9179\n",
      "Test loss: 0.12136174212098122\n",
      "Test accuracy: 0.9641\n"
     ]
    }
   ],
   "source": [
    "# MODEL: conv -> maxpool -> conv -> maxpool -> NN classifier with 2 hidden layers, dropouts\n",
    "\n",
    "input_shape = [image_size, image_size, num_channels]\n",
    "batch_size = 200\n",
    "epochs = 10\n",
    "\n",
    "model = Sequential()\n",
    "\n",
    "model.add(Conv2D(6, (5, 5), padding = 'same', activation = 'relu', input_shape = input_shape))\n",
    "model.add(MaxPooling2D(pool_size = (2, 2), strides = (2, 2), padding ='same'))\n",
    "model.add(Dropout(0.20))\n",
    "model.add(Conv2D(16, (5, 5), padding = 'same', activation ='relu'))\n",
    "model.add(MaxPooling2D(pool_size = (2, 2), strides = (2, 2), padding ='same'))\n",
    "model.add(Dropout(0.20))\n",
    "model.add(Flatten())\n",
    "model.add(Dense(120, activation='relu'))\n",
    "model.add(Dropout(0.25))\n",
    "model.add(Dense(84, activation='relu'))\n",
    "model.add(Dropout(0.25))\n",
    "model.add(Dense(num_labels, activation='softmax'))\n",
    "\n",
    "model.compile(loss=keras.losses.categorical_crossentropy, \n",
    "              optimizer=keras.optimizers.Adadelta(),\n",
    "              metrics=['accuracy'])\n",
    "\n",
    "model.fit(train_dataset, train_labels,\n",
    "          batch_size=batch_size,\n",
    "          epochs=epochs,\n",
    "          verbose=1,\n",
    "          validation_data=(valid_dataset, valid_labels))\n",
    "\n",
    "score = model.evaluate(test_dataset, test_labels, verbose=0)\n",
    "\n",
    "print('Test loss:', score[0])\n",
    "print('Test accuracy:', score[1])"
   ]
  }
 ],
 "metadata": {
  "kernelspec": {
   "display_name": "Python 3",
   "language": "python",
   "name": "python3"
  },
  "language_info": {
   "codemirror_mode": {
    "name": "ipython",
    "version": 3
   },
   "file_extension": ".py",
   "mimetype": "text/x-python",
   "name": "python",
   "nbconvert_exporter": "python",
   "pygments_lexer": "ipython3",
   "version": "3.5.2"
  }
 },
 "nbformat": 4,
 "nbformat_minor": 2
}
